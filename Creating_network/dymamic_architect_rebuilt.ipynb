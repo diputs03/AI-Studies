{
  "cells": [
    {
      "cell_type": "markdown",
      "metadata": {
        "id": "view-in-github",
        "colab_type": "text"
      },
      "source": [
        "<a href=\"https://colab.research.google.com/github/diputs03/AI-Studies/blob/main/Creating_network/dymamic_architect_rebuilt.ipynb\" target=\"_parent\"><img src=\"https://colab.research.google.com/assets/colab-badge.svg\" alt=\"Open In Colab\"/></a>"
      ]
    },
    {
      "cell_type": "code",
      "source": [
        "#@title Aiming a Dynaimic Graph-structured NeuronNetwork\n",
        "import numpy as np\n",
        "import matplotlib\n",
        "import matplotlib.pyplot as plt\n",
        "import sympy"
      ],
      "metadata": {
        "id": "6mXjwpToZTeV"
      },
      "id": "6mXjwpToZTeV",
      "execution_count": 1,
      "outputs": []
    },
    {
      "cell_type": "code",
      "source": [
        "\"\"\"\n",
        "Activation function in this case in tanh\n",
        "\"\"\"\n",
        "\n",
        "def softmax(Z):\n",
        "  return np.exp(Z) / np.sum(np.exp(Z))\n",
        "def d_tanh(Z):\n",
        "  return 1 - np.square(np.tanh(Z))\n",
        "\n",
        "class Model:\n",
        "  class Neuron:\n",
        "    def __init__(self, name, prev, next):\n",
        "      self.name, self.prev, self.next = name, prev, next\n",
        "  def __init__(self, input_size, output_size):\n",
        "    self.Input_layer = [Model.Neuron(f\"input{i}\", [], []) for i in range(input_size)]\n",
        "    self.Output_layer = [Model.Neuron(f\"output{o}\", [], []) for o in range(output_size)]\n",
        "    self.Input_layer[i].next = self.Output_layer for i in range(input_size)\n",
        "    self.Output_layer[o].prev = self.Input_layer for o in range(output_size)\n",
        "  def forward(self, X, batch_size):\n",
        "    assert X[i].shape() == batch_size for i in range()"
      ],
      "metadata": {
        "id": "YUliU5Cx-oyU"
      },
      "id": "YUliU5Cx-oyU",
      "execution_count": null,
      "outputs": []
    }
  ],
  "metadata": {
    "kernelspec": {
      "display_name": "Python 3",
      "name": "python3"
    },
    "language_info": {
      "codemirror_mode": {
        "name": "ipython",
        "version": 3
      },
      "file_extension": ".py",
      "mimetype": "text/x-python",
      "name": "python",
      "nbconvert_exporter": "python",
      "pygments_lexer": "ipython3",
      "version": "3.8.5"
    },
    "colab": {
      "provenance": [],
      "gpuType": "T4",
      "include_colab_link": true
    },
    "accelerator": "GPU"
  },
  "nbformat": 4,
  "nbformat_minor": 5
}