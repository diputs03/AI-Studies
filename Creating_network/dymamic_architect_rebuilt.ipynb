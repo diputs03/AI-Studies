{
  "cells": [
    {
      "cell_type": "markdown",
      "metadata": {
        "id": "view-in-github",
        "colab_type": "text"
      },
      "source": [
        "<a href=\"https://colab.research.google.com/github/diputs03/AI-Studies/blob/main/Creating_network/dymamic_architect_rebuilt.ipynb\" target=\"_parent\"><img src=\"https://colab.research.google.com/assets/colab-badge.svg\" alt=\"Open In Colab\"/></a>"
      ]
    },
    {
      "cell_type": "code",
      "source": [
        "#@title Aiming a Dynaimic Graph-structured NeuronNetwork\n",
        "import numpy as np\n",
        "import matplotlib\n",
        "import matplotlib.pyplot as plt"
      ],
      "metadata": {
        "id": "6mXjwpToZTeV"
      },
      "id": "6mXjwpToZTeV",
      "execution_count": 2,
      "outputs": []
    },
    {
      "cell_type": "code",
      "source": [
        "\"\"\"\n",
        "Activation function in this case in tanh\n",
        "Loss is the Euclidean loss\n",
        "\"\"\"\n",
        "class Model:\n",
        "  class Neuron:\n",
        "    def __init__(self, name, prev, next):\n",
        "      self.name, self.prev, self.next = name, prev, next\n",
        "      self.bias = 0\n",
        "  def __init__(self, input_size, output_size):\n",
        "    self.input_size = input_size\n",
        "    self.output_size = output_size\n",
        "    self.Input_layer = [Model.Neuron(f\"input{i}\", [], []) for i in range(input_size)]\n",
        "    self.Output_layer = [Model.Neuron(f\"output{o}\", [], []) for o in range(output_size)]\n",
        "    for i in range(input_size): self.Input_layer[i].next = self.Output_layer\n",
        "    for o in range(output_size): self.Output_layer[o].prev = self.Input_layer\n",
        "    self.weight = {}\n",
        "    for u in self.Input_layer:\n",
        "      for v in self.Output_layer:\n",
        "        self.weight[(u,v)] = 0\n",
        "    self.all_neurons = self.Input_layer + self.Output_layer\n",
        "\n",
        "  def forward(self, X, batch_size):\n",
        "    assert X.shape == (batch_size,self.input_size)\n",
        "    a = {q: [0 for _ in range(batch_size)] for q in self.all_neurons}\n",
        "    for i in range(self.input_size):\n",
        "      a[self.Input_layer[i]] = X.T[i].copy()\n",
        "    stack = self.Input_layer.copy()\n",
        "    cnt = {q: 0 for q in self.all_neurons}\n",
        "\n",
        "    while len(stack) != 0:\n",
        "      c = stack.pop()\n",
        "      a[c] = np.tanh(a[c] + c.bias)\n",
        "      for n in c.next:\n",
        "        a[n] = a[n] + a[c]*self.weight[(c,n)]\n",
        "        cnt[n] += 1\n",
        "        if cnt[n] == len(n.prev):\n",
        "          stack.append(n)\n",
        "    return a\n",
        "\n",
        "  def eval(self, X):\n",
        "    a = self.forward(X, len(X))\n",
        "    return np.array([a[o] for o in self.Output_layer]).T\n",
        "\n",
        "  def backward(self, X, Y, batch_size, learning_rate):\n",
        "    assert X.shape == (batch_size,self.input_size)\n",
        "    assert Y.shape == (batch_size,self.output_size)\n",
        "    a = self.forward(X, batch_size)\n",
        "    par_a = {q: [0 for _ in range(batch_size)] for q in self.all_neurons}\n",
        "    for o in range(self.output_size):\n",
        "      par_a[self.Output_layer[o]] = 2 * (a[self.Output_layer[o]] - Y.T[o])\n",
        "    stack = self.Output_layer.copy()\n",
        "    cnt = {q: 0 for q in self.all_neurons}\n",
        "\n",
        "    while len(stack) != 0:\n",
        "      c = stack.pop()\n",
        "      par_b = par_a[c] * (1-a[c]**2)\n",
        "      c.bias -= np.mean(par_b) * learning_rate\n",
        "      for p in c.prev:\n",
        "        par_a[p] += par_a[c] * (1-a[c]**2) * self.weight[(p,c)]\n",
        "        par_pc = par_a[c] * (1-a[c]**2) * a[p]\n",
        "        self.weight[(p,c)] -= np.mean(par_pc) * learning_rate\n",
        "        cnt[p] += 1\n",
        "        if cnt[p] == len(p.next):\n",
        "          stack.append(p)\n",
        "\n",
        "  def addLayer(self, mid_size):\n",
        "    Mid_layer = [Model.Neuron(f\"mid{o}\", [], []) for o in range(mid_size)]\n",
        "    for m, mid in enumerate(Mid_layer):\n",
        "      Mid_layer[m].prev = self.Input_layer\n",
        "      for i in self.Input_layer:\n",
        "        self.weight[(i,mid)] = 0\n",
        "      Mid_layer[m].next = self.Output_layer\n",
        "      for o in self.Output_layer:\n",
        "        self.weight[(mid,o)] = 0\n",
        "    for i in self.Input_layer:\n",
        "      i.next = Mid_layer\n",
        "    for o in self.Output_layer:\n",
        "      o.prev = Mid_layer\n",
        "    for u in self.Input_layer:\n",
        "      for v in self.Output_layer:\n",
        "        self.weight.pop((u, v))\n",
        "    self.all_neurons += Mid_layer"
      ],
      "metadata": {
        "id": "YUliU5Cx-oyU"
      },
      "id": "YUliU5Cx-oyU",
      "execution_count": 66,
      "outputs": []
    },
    {
      "cell_type": "code",
      "source": [
        "mod = Model(2, 1)\n",
        "X = np.array([[0,0], [0,1], [1,0], [1,1]])\n",
        "Y = np.array([[0], [1], [1], [0]])\n",
        "mod.addLayer(2)\n",
        "print(mod.eval(X))\n",
        "for i in range(1000):\n",
        "  for j in range(4):\n",
        "    mod.backward(X[j:j+1], Y[j:j+1], 1, 1)\n",
        "print(mod.eval(X))"
      ],
      "metadata": {
        "colab": {
          "base_uri": "https://localhost:8080/"
        },
        "id": "lcOYUuYAjXPG",
        "outputId": "8c3b0470-be87-4ebd-a729-228597029f12"
      },
      "id": "lcOYUuYAjXPG",
      "execution_count": 67,
      "outputs": [
        {
          "output_type": "stream",
          "name": "stdout",
          "text": [
            "[[0.]\n",
            " [0.]\n",
            " [0.]\n",
            " [0.]]\n",
            "[[0.9349377]\n",
            " [0.9349377]\n",
            " [0.9349377]\n",
            " [0.9349377]]\n"
          ]
        }
      ]
    }
  ],
  "metadata": {
    "kernelspec": {
      "display_name": "Python 3",
      "name": "python3"
    },
    "language_info": {
      "codemirror_mode": {
        "name": "ipython",
        "version": 3
      },
      "file_extension": ".py",
      "mimetype": "text/x-python",
      "name": "python",
      "nbconvert_exporter": "python",
      "pygments_lexer": "ipython3",
      "version": "3.8.5"
    },
    "colab": {
      "provenance": [],
      "gpuType": "T4",
      "include_colab_link": true
    },
    "accelerator": "GPU"
  },
  "nbformat": 4,
  "nbformat_minor": 5
}